{
 "cells": [
  {
   "cell_type": "code",
   "execution_count": 1,
   "id": "f95c627c",
   "metadata": {},
   "outputs": [
    {
     "name": "stdout",
     "output_type": "stream",
     "text": [
      "Please add your name: Anish Mitra\n",
      "Please add your favourite sports name: Manchester City\n",
      "Please add your name: Anish Mitra\n",
      "Please add your favourite sports name: Manchester City\n"
     ]
    }
   ],
   "source": [
    "%run add"
   ]
  },
  {
   "cell_type": "code",
   "execution_count": 2,
   "id": "b7154fd3",
   "metadata": {},
   "outputs": [],
   "source": [
    "os.getcwd()\n",
    "os.chdir('C:\\\\Users\\\\gbore\\\\VC')"
   ]
  },
  {
   "cell_type": "code",
   "execution_count": 3,
   "id": "879ee780",
   "metadata": {
    "scrolled": true
   },
   "outputs": [
    {
     "name": "stdout",
     "output_type": "stream",
     "text": [
      "Please add your name: Anish Mitra\n",
      "Please add your favourite sports name: Manchester City\n"
     ]
    }
   ],
   "source": [
    "#from Scripts import Scripts.add\n",
    "%run test \n",
    "#pytest test/test.py -s\n"
   ]
  }
 ],
 "metadata": {
  "kernelspec": {
   "display_name": "Python 3 (ipykernel)",
   "language": "python",
   "name": "python3"
  },
  "language_info": {
   "codemirror_mode": {
    "name": "ipython",
    "version": 3
   },
   "file_extension": ".py",
   "mimetype": "text/x-python",
   "name": "python",
   "nbconvert_exporter": "python",
   "pygments_lexer": "ipython3",
   "version": "3.9.7"
  }
 },
 "nbformat": 4,
 "nbformat_minor": 5
}
